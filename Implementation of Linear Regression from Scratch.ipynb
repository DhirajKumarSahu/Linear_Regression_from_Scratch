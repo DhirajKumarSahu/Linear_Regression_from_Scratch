{
 "cells": [
  {
   "cell_type": "markdown",
   "id": "laughing-perception",
   "metadata": {},
   "source": [
    "### Importing Libraries"
   ]
  },
  {
   "cell_type": "code",
   "execution_count": 1,
   "id": "exclusive-barbados",
   "metadata": {},
   "outputs": [],
   "source": [
    "import numpy as np\n",
    "import pandas as pd\n",
    "from sklearn.datasets import make_regression # to create sample data\n",
    "from sklearn.model_selection import train_test_split # to split data into test and train\n",
    "from sklearn.preprocessing import StandardScaler # to Standardize the data\n",
    "from sklearn import linear_model # for comparing the results\n",
    "from tqdm import tqdm\n",
    "import matplotlib.pyplot as plt\n",
    "import math"
   ]
  },
  {
   "cell_type": "markdown",
   "id": "pharmaceutical-english",
   "metadata": {},
   "source": [
    "### Preparing the Dataset"
   ]
  },
  {
   "cell_type": "code",
   "execution_count": 2,
   "id": "extended-failure",
   "metadata": {},
   "outputs": [],
   "source": [
    "X, y = make_regression(n_samples=50000, n_features=15, n_informative=10,\n",
    "                             random_state=15)\n",
    "X_train, X_test, y_train, y_test = train_test_split(X, y, test_size=0.25, random_state=15)\n",
    "# Standardizing the data.\n",
    "scaler = StandardScaler()\n",
    "X_train = scaler.fit_transform(X_train)\n",
    "X_test = scaler.transform(X_test)"
   ]
  },
  {
   "cell_type": "markdown",
   "id": "three-german",
   "metadata": {},
   "source": [
    "### Implementation of Linear regression"
   ]
  },
  {
   "attachments": {
    "lr_formula.jpg": {
     "image/jpeg": "[encoded data removed]"
    }
   },
   "cell_type": "markdown",
   "id": "separate-startup",
   "metadata": {},
   "source": [
    "![lr_formula.jpg](attachment:lr_formula.jpg)"
   ]
  },
  {
   "cell_type": "code",
   "execution_count": 3,
   "id": "changed-jackson",
   "metadata": {},
   "outputs": [],
   "source": [
    "class linear_regression():\n",
    "    def __init__(self, learning_rate, regularization_constant, verbose = True):\n",
    "        self.learning_rate = learning_rate\n",
    "        self.regularization_constant = regularization_constant\n",
    "        self.weights = 0\n",
    "        self.bais = 0\n",
    "        self.verbose = verbose\n",
    "        \n",
    "    def squared_error(self, a, b):\n",
    "        return (a-b)**2\n",
    "    \n",
    "    def gradient_weights(self, weights, x, y, bais ):\n",
    "        return (weights.dot(x) + bais - y)*x\n",
    "    \n",
    "    def gradient_bais(self, weights, x, y, bais):\n",
    "         return (weights.dot(x) + bais - y)\n",
    "        \n",
    "    def fit(self, x_train, y_train, epoch): \n",
    "        weights = np.zeros(x_train.shape[1])\n",
    "        bais = 0\n",
    "        n = len(y_train)\n",
    "        mean_error = []\n",
    "        for _ in tqdm(range(epoch)):\n",
    "            dw, db = 0, 0\n",
    "            for x,y in zip(x_train, y_train):\n",
    "                dw += self.gradient_weights(weights, x, y, bais)\n",
    "                db += self.gradient_bais(weights, x, y, bais)\n",
    "            weights = weights - self.learning_rate *(( dw + self.regularization_constant)/n)\n",
    "            bais = bais -  self.learning_rate * db/n\n",
    "            if self.verbose == True:\n",
    "                a = []\n",
    "                for x,y in zip(x_train, y_train):\n",
    "                    a.append(self.squared_error( y, weights.dot(x) + bais))\n",
    "                mean_error.append(math.sqrt(sum(a)/len(a)))    \n",
    "        self.weights = weights\n",
    "        self.bais = bais\n",
    "        if self.verbose == True:\n",
    "            return mean_error\n",
    "    \n",
    "    def predict(self, x_test):\n",
    "        return self.weights.dot(x_test) + self.bais"
   ]
  },
  {
   "cell_type": "code",
   "execution_count": 12,
   "id": "protective-insured",
   "metadata": {},
   "outputs": [
    {
     "name": "stderr",
     "output_type": "stream",
     "text": [
      "100%|██████████████████████████████████████████████████████████████████████████████████| 80/80 [00:26<00:00,  3.06it/s]\n"
     ]
    }
   ],
   "source": [
    "lr = linear_regression(learning_rate = 0.1, regularization_constant = 0.0001, verbose = True) \n",
    "m = lr.fit(X_train, y_train, 80)"
   ]
  },
  {
   "cell_type": "markdown",
   "id": "bulgarian-compatibility",
   "metadata": {},
   "source": [
    "### Plotting the Root Mean Squared Error after every epoch"
   ]
  },
  {
   "cell_type": "code",
   "execution_count": 28,
   "id": "higher-decade",
   "metadata": {},
   "outputs": [
    {
     "data": {
      "image/png": "[encoded data removed]",
      "text/plain": [
       "<Figure size 640x480 with 1 Axes>"
      ]
     },
     "metadata": {},
     "output_type": "display_data"
    }
   ],
   "source": [
    "plt.plot(m)\n",
    "plt.xlabel('Epochs')\n",
    "plt.ylabel('RMSE')\n",
    "plt.title('RMSE vs Epochs')\n",
    "plt.show()"
   ]
  },
  {
   "cell_type": "markdown",
   "id": "fabulous-assessment",
   "metadata": {},
   "source": [
    "### Performance on Test Data"
   ]
  },
  {
   "cell_type": "code",
   "execution_count": 15,
   "id": "regular-alexandria",
   "metadata": {},
   "outputs": [
    {
     "name": "stdout",
     "output_type": "stream",
     "text": [
      "0.04838115713580432\n"
     ]
    }
   ],
   "source": [
    "a = []\n",
    "for x,y in zip(X_test, y_test):\n",
    "    a.append((lr.predict(x)- y)**2)\n",
    "print(math.sqrt(sum(a)/len(a)))"
   ]
  },
  {
   "cell_type": "markdown",
   "id": "advisory-cradle",
   "metadata": {},
   "source": [
    "### Comparing with Sklearns implementation"
   ]
  },
  {
   "cell_type": "code",
   "execution_count": 18,
   "id": "ideal-pavilion",
   "metadata": {},
   "outputs": [],
   "source": [
    "sgd_r = linear_model.SGDRegressor()"
   ]
  },
  {
   "cell_type": "code",
   "execution_count": 19,
   "id": "challenging-jewelry",
   "metadata": {},
   "outputs": [
    {
     "data": {
      "text/plain": [
       "SGDRegressor()"
      ]
     },
     "execution_count": 19,
     "metadata": {},
     "output_type": "execute_result"
    }
   ],
   "source": [
    "sgd_r.fit(X_train, y_train)"
   ]
  },
  {
   "cell_type": "code",
   "execution_count": 27,
   "id": "statutory-corporation",
   "metadata": {},
   "outputs": [
    {
     "name": "stdout",
     "output_type": "stream",
     "text": [
      "0.024302932711778545\n"
     ]
    }
   ],
   "source": [
    "a = []\n",
    "predictions = sgd_r.predict(X_test)\n",
    "for y_pred, y_true in zip(predictions,y_test): \n",
    "    a.append((y_pred- y_true)**2)\n",
    "\n",
    "print(math.sqrt(sum(a)/len(a)))"
   ]
  }
 ],
 "metadata": {
  "kernelspec": {
   "display_name": "Python 3",
   "language": "python",
   "name": "python3"
  },
  "language_info": {
   "codemirror_mode": {
    "name": "ipython",
    "version": 3
   },
   "file_extension": ".py",
   "mimetype": "text/x-python",
   "name": "python",
   "nbconvert_exporter": "python",
   "pygments_lexer": "ipython3",
   "version": "3.7.3"
  }
 },
 "nbformat": 4,
 "nbformat_minor": 5
}
